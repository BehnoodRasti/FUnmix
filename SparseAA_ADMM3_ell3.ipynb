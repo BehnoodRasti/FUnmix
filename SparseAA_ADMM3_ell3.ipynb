{
 "cells": [
  {
   "cell_type": "markdown",
   "metadata": {
    "colab_type": "text",
    "id": "view-in-github"
   },
   "source": [
    "<a href=\"https://colab.research.google.com/github/BehnoodRasti/SparseEDAA/blob/main/SparseEDAA_Alex_BR.ipynb\" target=\"_parent\"><img src=\"https://colab.research.google.com/assets/colab-badge.svg\" alt=\"Open In Colab\"/></a>"
   ]
  },
  {
   "cell_type": "code",
   "execution_count": 98,
   "metadata": {
    "colab": {
     "base_uri": "https://localhost:8080/"
    },
    "id": "msutpAkQkjN1",
    "outputId": "79b1a112-6915-47f3-fa79-0c7305d6c606"
   },
   "outputs": [],
   "source": [
    "#!git clone https://github.com/BehnoodRasti/Unmixing_Tutorial_IEEE_IADF.git\n",
    "#!git clone https://github.com/BehnoodRasti/SUnCNN.git"
   ]
  },
  {
   "cell_type": "code",
   "execution_count": 99,
   "metadata": {
    "colab": {
     "base_uri": "https://localhost:8080/"
    },
    "id": "XH6eVcLNk8tO",
    "outputId": "b6196a70-c68d-4186-9e95-c57cfd705a6e"
   },
   "outputs": [],
   "source": [
    "#!pip install munkres"
   ]
  },
  {
   "cell_type": "code",
   "execution_count": 3,
   "metadata": {
    "id": "WpgHtD63k_1u"
   },
   "outputs": [],
   "source": [
    "import time\n",
    "import os\n",
    "\n",
    "import matplotlib.pyplot as plt\n",
    "import scipy.io as sio\n",
    "import numpy as np\n",
    "import numpy.linalg as LA\n",
    "import torch\n",
    "import torch.nn.functional as F\n",
    "from tqdm.notebook import tqdm as tqdm\n",
    "from tqdm import tqdm\n",
    "\n",
    "from munkres import Munkres\n",
    "#from Unmixing_Tutorial_IEEE_IADF.utils.data import HSI\n",
    "#from Unmixing_Tutorial_IEEE_IADF.utils.metrics import MeanSquareError as MSE\n",
    "#from Unmixing_Tutorial_IEEE_IADF.utils.metrics import aRMSE as RMSE\n",
    "#from Unmixing_Tutorial_IEEE_IADF.utils.metrics import SADDegrees as SAD \n",
    "#from Unmixing_Tutorial_IEEE_IADF.utils.aligners import MunkresAbundancesAligner as Aligner\n",
    "from IPython.display import clear_output\n",
    "import sys"
   ]
  },
  {
   "cell_type": "code",
   "execution_count": 5,
   "metadata": {
    "id": "n5OsZOLdhL1H"
   },
   "outputs": [],
   "source": [
    "import scipy.io\n",
    "import numpy as np\n",
    "fname2  = \"Y_clean.mat\"\n",
    "mat2 = scipy.io.loadmat(fname2)\n",
    "img_np_gt = mat2[\"Y_clean\"]\n",
    "img_np_gt = img_np_gt.transpose(2,0,1)\n",
    "[p1, nr1, nc1] = img_np_gt.shape\n",
    "img_resh=np.reshape(img_np_gt,(p1,nr1*nc1))\n",
    "#%%\n",
    "fname3  = \"XT.mat\"\n",
    "mat3 = scipy.io.loadmat(fname3)\n",
    "A_true_np = mat3[\"XT\"]\n",
    "\n",
    "#%%\n",
    "fname4  = \"EE.mat\"\n",
    "mat4 = scipy.io.loadmat(fname4)\n",
    "EE = mat4[\"EE\"]\n",
    "D=EE\n",
    "#%%\n",
    "p = 5 # number of endmembers"
   ]
  },
  {
   "cell_type": "code",
   "execution_count": 6,
   "metadata": {
    "colab": {
     "base_uri": "https://localhost:8080/"
    },
    "id": "gvErT7o__Gwy",
    "outputId": "7a81b545-3bee-480b-ab51-d8c83c611214"
   },
   "outputs": [],
   "source": [
    "#LA.norm(img_resh, axis=0, ord=2, keepdims=True)"
   ]
  },
  {
   "cell_type": "code",
   "execution_count": 7,
   "metadata": {
    "id": "ksIR4mGE_UqN"
   },
   "outputs": [],
   "source": [
    "Y = img_resh"
   ]
  },
  {
   "cell_type": "code",
   "execution_count": 8,
   "metadata": {
    "id": "kez9vofZ_33o"
   },
   "outputs": [],
   "source": [
    "L, N = Y.shape"
   ]
  },
  {
   "cell_type": "code",
   "execution_count": 9,
   "metadata": {
    "id": "_AzcAPgQ_ncf"
   },
   "outputs": [],
   "source": [
    "# indices = np.random.choice(np.arange(N), size=100)"
   ]
  },
  {
   "cell_type": "code",
   "execution_count": 10,
   "metadata": {
    "colab": {
     "base_uri": "https://localhost:8080/",
     "height": 265
    },
    "id": "yWBLu3F_AQH3",
    "outputId": "aa3e077c-e721-4cd2-9bc0-8712b10bb873"
   },
   "outputs": [],
   "source": [
    "# plt.plot(img_resh[:, indices]);"
   ]
  },
  {
   "cell_type": "code",
   "execution_count": 11,
   "metadata": {
    "colab": {
     "base_uri": "https://localhost:8080/",
     "height": 265
    },
    "id": "7laARRbeAYcH",
    "outputId": "425bb61e-f63f-4750-ff02-e93a4e0fa357"
   },
   "outputs": [],
   "source": [
    "# Y = Y / LA.norm(Y, axis=0, ord=2, keepdims=True)\n",
    "# plt.plot(Y[:, indices]);"
   ]
  },
  {
   "cell_type": "code",
   "execution_count": 12,
   "metadata": {},
   "outputs": [],
   "source": [
    "# !pip install cvxpylayers"
   ]
  },
  {
   "cell_type": "code",
   "execution_count": 13,
   "metadata": {},
   "outputs": [],
   "source": [
    "# import cvxpy as cp\n",
    "# import torch\n",
    "# from cvxpylayers.torch import CvxpyLayer\n",
    "\n",
    "# p, N = 4, 100\n",
    "# LibS=220\n",
    "# x = cp.Variable((p,N))\n",
    "# AA = cp.Parameter((LibS, p))\n",
    "# bb = cp.Parameter((LibS,N))\n",
    "# onesp=torch.ones((p,1))#.to(self.device) \n",
    "# onesn=torch.ones((N,1))#.to(self.device) \n",
    "# constraints = [onesp.t()@x == onesn.t()]\n",
    "# objective = cp.Minimize(0.5 * cp.pnorm((AA @ x - bb)**2, p=2))\n",
    "# problem = cp.Problem(objective, constraints)\n",
    "# assert problem.is_dpp()\n",
    "\n",
    "# cvxpylayer = CvxpyLayer(problem, parameters=[AA, bb], variables=[x])\n",
    "# A_tch = torch.randn(LibS, p, requires_grad=True)\n",
    "# b_tch = torch.randn(LibS,N, requires_grad=True)\n",
    "\n",
    "# # solve the problem\n",
    "# solution, = cvxpylayer(A_tch, b_tch,'ignore_dpp = True')\n",
    "# print(solution)\n",
    "# # compute the gradient of the sum of the solution with respect to A, b\n",
    "# solution.sum().backward()"
   ]
  },
  {
   "cell_type": "code",
   "execution_count": 14,
   "metadata": {
    "id": "GrSxSoiuk_r9"
   },
   "outputs": [],
   "source": [
    "class SparseEDAA:\n",
    "    def __init__(self,lamb=0.1, mu1=20,mu2=10,mu3=1, TA=5, TB=10,T=20000):\n",
    "        self.mu1 = mu1\n",
    "        self.mu2 = mu2\n",
    "        self.mu3 = mu3\n",
    "        self.TA = TA\n",
    "        self.TB = TB\n",
    "        self.T =T\n",
    "        self.lamb=lamb\n",
    "        self.device = torch.device(\"cuda:0\" if torch.cuda.is_available() else \"cpu\")\n",
    "\n",
    "    def solve(\n",
    "        self,\n",
    "        Y,\n",
    "        D,\n",
    "        p,\n",
    "        seed=0,\n",
    "        **kwargs,\n",
    "    ):\n",
    "        \n",
    "        L, N = Y.shape\n",
    "        LibS=D.shape[1]\n",
    "        def residual(a, b):\n",
    "            return 0.5 * ((Y - (D @ b) @ a) ** 2).sum()\n",
    "\n",
    "        def lossTot(a, b, lamb):\n",
    "            return residual(a, b) + lamb * b.abs().sum()\n",
    "        results = {}\n",
    "        #eps=sys.float_info.epsilon\n",
    "        tic = time.time()\n",
    "\n",
    "        #for m in tqdm(range(self.M)):\n",
    "        #    torch.manual_seed(m + seed)\n",
    "        #    generator = np.random.RandomState(m + seed)\n",
    "        #    with torch.no_grad():\n",
    "        A = (1 / p) * torch.ones((p, N))\n",
    "        B=(1 / LibS) * torch.ones((LibS, p))\n",
    "        L1 = torch.zeros((p,N))\n",
    "        L2 = torch.zeros((LibS,p))\n",
    "        L3 = torch.zeros((L,p))\n",
    "        S1=L1\n",
    "        S2=L2\n",
    "        S3=L3\n",
    "        inv1=torch.zeros((p,p))\n",
    "        inv2=torch.zeros((1,1))\n",
    "        inv3=torch.zeros((LibS,LibS))\n",
    "        inv4=inv2\n",
    "        # Send matrices on GPU\n",
    "        D = D.to(self.device)\n",
    "        Y = Y.to(self.device)\n",
    "        A = A.to(self.device)\n",
    "        B = B.to(self.device)\n",
    "        S1 = S1.to(self.device)\n",
    "        S2 = S2.to(self.device)\n",
    "        S3 = S3.to(self.device)\n",
    "        L1 = L1.to(self.device)\n",
    "        L2 = L2.to(self.device)\n",
    "        L3 = L3.to(self.device)\n",
    "        eyep=torch.eye(p).to(self.device) \n",
    "        eyeLibS=torch.eye(LibS).to(self.device) \n",
    "        onesp=torch.ones((p,1)).to(self.device) \n",
    "        onesLibS=torch.ones((LibS,1)).to(self.device) \n",
    "        onesn=torch.ones((N,1)).to(self.device) \n",
    "        eyeL=torch.eye(L).to(self.device) \n",
    "        # Random Step size factor\n",
    "        DtY=D.t()@Y\n",
    "        inv3=torch.inverse(self.mu3*D.t()@D+self.mu2*eyeLibS)#+eyeLibS*eps)\n",
    "        inv4=-1/(onesLibS.t()@inv3@onesLibS)\n",
    "        inv5=torch.inverse(self.mu2*eyeLibS+self.mu3*D.t()@D)\n",
    "        soft=torch.nn.Softshrink(self.lamb/self.mu2)\n",
    "        hard=torch.nn.Hardshrink(np.sqrt(2*self.lamb/self.mu2))\n",
    "        for ii in tqdm(range(self.T)):\n",
    "            for jj in range(self.TA):\n",
    "                inv1=torch.inverse(self.mu3*S3.t()@S3+self.mu1*eyep)\n",
    "                inv2=-1/(onesp.t()@inv1@onesp)\n",
    "                A=(inv1+inv1@onesp@inv2@onesp.t()@inv1)@(S3.t()@Y+self.mu1*(S1-L1))-inv1@onesp@(inv2*onesn.t())\n",
    "                S1= (A+L1)\n",
    "                S1[S1<=0]=0\n",
    "                L1 = L1 + A - S1\n",
    "                #print(lossTot(A,B,self.lamb).item())\n",
    "            for jj in range(self.TB):\n",
    "                #B=(inv3+inv3@onesLibS@inv4@onesLibS.t()@inv3)@(mu3*D.t()@(S3-L3)+mu2*(S2-L2))-inv3@onesLibS@(inv4*onesp.t())\n",
    "                B=inv5@(self.mu2*(S2-L2)+self.mu3*D.t()@(S3-L3))\n",
    "                #S2= (B+L2)\n",
    "                #============\n",
    "                S2= hard(B+L2)\n",
    "                S2[S2<=0]=0\n",
    "                #===========\n",
    "                S2[S2>=1]=1\n",
    "                #=========== \n",
    "                L2 = L2 + B - S2\n",
    "                S3=(Y@A.t() + self.mu3*(D@B+L3))@torch.inverse(A@A.t()+self.mu3*eyep)\n",
    "                L3 = L3 + D@B - S3\n",
    "                print(lossTot(A,B, self.lamb).item())\n",
    "                # inv1=torch.inverse(self.mu3*S3.t()@S3+self.mu1*eyep)\n",
    "                # inv2=-1/(onesp.t()@inv1@onesp)\n",
    "                # A=(inv1+inv1@onesp@inv2@onesp.t()@inv1)@(S3.t()@Y+self.mu1*(S1-L1))-inv1@onesp@(inv2*onesn.t())\n",
    "                # B=(inv3+inv3@onesLibS@inv4@onesLibS.t()@inv3)@(self.mu3*D.t()@(S3-L3)+self.mu2*(S2-L2))-inv3@onesLibS@(inv4*onesp.t())\n",
    "                # S3=(Y@A.t() + self.mu3*(D@B+L3))@torch.inverse(A@A.t()+self.mu3*eyep)\n",
    "                # S1= (A+L1)\n",
    "                # S1[S1<=0]=0\n",
    "                # S2= (B+L2)\n",
    "                # S2[S2<=0]=0\n",
    "                # L1 = L1 + A - S1\n",
    "                # L2 = L2 + B - S2\n",
    "                # L3 = L3 + D@B - S3\n",
    "            #print(lossTot(A,B,self.lamb).item())\n",
    "            if ii % 10 == 0:\n",
    "                    clear_output(wait=False)\n",
    "        E = (D @ B).cpu().numpy()\n",
    "        A = A.cpu().numpy()\n",
    "        B = B.cpu().numpy()\n",
    "        # Store results\n",
    "        results[1] = {\n",
    "            \"Em\": E,\n",
    "            \"Am\": A,\n",
    "            \"Bm\": B,\n",
    "        }\n",
    "\n",
    "        toc = time.time()\n",
    "        elapsed_time = round(toc - tic, 2)\n",
    "        print(f\"{self} took {elapsed_time}s\")\n",
    "\n",
    "        return E,B, A\n",
    "\n",
    "    def __repr__(self):\n",
    "        msg = f\"{self.__class__.__name__}\"\n",
    "        return msg"
   ]
  },
  {
   "cell_type": "code",
   "execution_count": 15,
   "metadata": {
    "id": "Qp7IenqMgXMK"
   },
   "outputs": [],
   "source": [
    "import numpy as np\n",
    "\n",
    "\n",
    "class AdditiveWhiteGaussianNoise:\n",
    "    def __init__(self):\n",
    "        self.sigmas = None\n",
    "        self.SNR = None\n",
    "        self.L = None\n",
    "        self.N = None\n",
    "\n",
    "    def fit(self, Y, SNR: float):\n",
    "        \"\"\"\n",
    "        Compute sigmas at the desired SNR given a flattened input HSI Y\n",
    "        \"\"\"\n",
    "        assert len(Y.shape) == 2\n",
    "        self.L, self.N = Y.shape\n",
    "        #logger.debug(f\"Y shape: {Y.shape}\")\n",
    "        self.SNR = SNR\n",
    "        #logger.debug(f\"Desired SNR: {self.SNR}\")\n",
    "\n",
    "        if SNR is None:\n",
    "            self.sigmas = np.zeros(self.L)\n",
    "        else:\n",
    "            assert SNR > 0, \"SNR must be stricly positive\"\n",
    "            # Uniform across bands\n",
    "            sigmas = np.ones(self.L)\n",
    "            # Normalization\n",
    "            sigmas /= np.linalg.norm(sigmas)\n",
    "            #logger.debug(f\"Sigmas after normalization: {sigmas[0]}\")\n",
    "            # compute mean sigma\n",
    "            num = np.sum(Y ** 2) / self.N\n",
    "            denom = 10 ** (self.SNR / 10)\n",
    "            sigmas_mean = np.sqrt(num / denom)\n",
    "            #logger.debug(f\"Sigma mean based on SNR: {sigmas_mean}\")\n",
    "            # Noise variance\n",
    "            sigmas *= sigmas_mean\n",
    "            #logger.debug(f\"Final sigmas value: {sigmas[0]}\")\n",
    "            self.sigmas = sigmas\n",
    "\n",
    "    def transform(self, Y, seed=0):\n",
    "        \"\"\"\n",
    "        Add White Gaussian Noise to the flattened input HSI Y\n",
    "        \"\"\"\n",
    "        assert self.sigmas is not None, \"Must be fitted first\"\n",
    "        assert (self.L, self.N) == Y.shape\n",
    "        # Fix random seed\n",
    "        generator = np.random.RandomState(seed=seed)\n",
    "        # Noise generation\n",
    "        N = np.diag(self.sigmas) @ generator.randn(self.L, self.N)\n",
    "        # Additive Noise\n",
    "        return Y + N\n",
    "\n",
    "    def fit_transform(self, Y, SNR, seed=0):\n",
    "        \"\"\"\n",
    "        Combine `fit` and `transform` methods.\n",
    "        See above for their respective usage.\n",
    "        \"\"\"\n",
    "        self.fit(Y, SNR)\n",
    "        return self.transform(Y, seed=seed)"
   ]
  },
  {
   "cell_type": "code",
   "execution_count": 16,
   "metadata": {
    "tags": []
   },
   "outputs": [],
   "source": [
    "# # Subspace Setup\n",
    "# from scipy import linalg\n",
    "# model = SparseEDAA(K1=1, K2=1, T=20000, M=1)\n",
    "# #Y = img_resh\n",
    "# D=EE\n",
    "# #img_mean=np.mean(img_resh,1).reshape(p1,1)\n",
    "# #img_mean_rmv=img_resh-img_mean\n",
    "# #V, SS, U = scipy.linalg.svd(img_mean_rmv@img_mean_rmv.transpose(1,0)/(nr1*nc1), full_matrices=False)\n",
    "# #Y=V[:,:p].transpose(1,0)@img_mean_rmv\n",
    "# Y = noise.fit_transform(img_resh, SNR=40, seed=0)\n",
    "# V, SS, U = scipy.linalg.svd(Y, full_matrices=False)\n",
    "# Y_r=V[:,:p].transpose(1,0)@Y\n",
    "# DD = V[:,:p].transpose(1,0)@D\n",
    "# noise = AdditiveWhiteGaussianNoise()\n",
    "# Y_r = torch.Tensor(Y_r)\n",
    "# DD = torch.Tensor(DD)\n",
    "# D = torch.Tensor(D)\n",
    "# E00, A0 = model.solve(Y_r, DD, p, seed=1)\n",
    "# E0=V[:,:p]@E00"
   ]
  },
  {
   "cell_type": "code",
   "execution_count": 25,
   "metadata": {
    "colab": {
     "base_uri": "https://localhost:8080/",
     "height": 1000,
     "referenced_widgets": [
      "6972dfe413e84e758f0acf45fa2b0b48",
      "1749f8da16e246bebd5b77eef049fcf9",
      "9e8920bc5d3b4c8fbdd277e15a604534",
      "b85f908deff043fe8c1aa96885dd489a",
      "0f81db6cf4b6431383aa5d27b4664021",
      "d13f9c221cc9468cb18cd58297271ca2",
      "1d14c12be09f43e0956289f46e0f3c65",
      "5b27a4a14ad347468dafb3562aebc462",
      "9c9c9ca8f1e9454eb822adc8fc156105",
      "1bf6f77fcfbb45189d1f0de55eefd9d0",
      "c97c851ca8b449f9bb25ba566510b01e"
     ]
    },
    "id": "rNN4jT5_riCE",
    "outputId": "79ce0ce1-a751-4469-ddbf-9f6806cac530",
    "tags": []
   },
   "outputs": [
    {
     "name": "stdout",
     "output_type": "stream",
     "text": [
      "2.716306686401367\n",
      "2.7162423133850098\n",
      "2.716257095336914\n",
      "2.7163314819335938\n",
      "2.716238021850586\n",
      "2.716277837753296\n",
      "2.7162816524505615\n",
      "2.7162585258483887\n",
      "2.7162933349609375\n",
      "2.7162437438964844\n",
      "2.7162790298461914\n",
      "2.716304302215576\n",
      "2.7162678241729736\n",
      "2.716315984725952\n",
      "2.716264009475708\n",
      "2.7162821292877197\n",
      "2.7163119316101074\n",
      "2.7162294387817383\n",
      "2.7162973880767822\n",
      "2.716352939605713\n",
      "2.7162740230560303\n",
      "2.7163026332855225\n",
      "2.716264009475708\n",
      "2.716245651245117\n",
      "2.7162623405456543\n",
      "2.716273784637451\n",
      "2.7163500785827637\n",
      "2.7162563800811768\n",
      "2.716259479522705\n",
      "2.716294050216675\n",
      "2.716273784637451\n",
      "2.716296672821045\n",
      "2.716238260269165\n",
      "2.716308355331421\n",
      "2.716261863708496\n",
      "2.7162485122680664\n",
      "2.7163100242614746\n"
     ]
    },
    {
     "name": "stderr",
     "output_type": "stream",
     "text": [
      "100%|█████████████████████████████████████████████████▉| 1995/2000 [00:30<00:00, 64.77it/s]"
     ]
    },
    {
     "name": "stdout",
     "output_type": "stream",
     "text": [
      "2.716280937194824\n",
      "2.7162396907806396\n",
      "2.716264247894287\n",
      "2.7162692546844482\n",
      "2.716277837753296\n",
      "2.716270685195923\n",
      "2.716261386871338\n",
      "2.716275691986084\n",
      "2.7162580490112305\n",
      "2.7162728309631348\n",
      "2.716291666030884\n",
      "2.7162489891052246\n",
      "2.7162489891052246\n",
      "2.716270923614502\n",
      "2.7163758277893066\n",
      "2.7162396907806396\n",
      "2.7162671089172363\n",
      "2.7162842750549316\n",
      "2.716268539428711\n",
      "2.71626353263855\n",
      "2.7162725925445557\n",
      "2.7162559032440186\n",
      "2.7163400650024414\n",
      "2.716266632080078\n",
      "2.716251850128174\n",
      "2.7162513732910156\n",
      "2.716273784637451\n",
      "2.716278314590454\n",
      "2.716254711151123\n",
      "2.7162461280822754\n",
      "2.7162976264953613\n",
      "2.7162439823150635\n",
      "2.716254234313965\n",
      "2.7162930965423584\n",
      "2.7162492275238037\n",
      "2.716282844543457\n",
      "2.7163310050964355\n",
      "2.7162623405456543\n",
      "2.7162327766418457\n",
      "2.7162814140319824\n",
      "2.7163209915161133\n",
      "2.716277599334717\n",
      "2.7162299156188965\n",
      "2.71624493598938\n",
      "2.7162671089172363\n",
      "2.716273307800293\n",
      "2.7162320613861084\n",
      "2.7162539958953857\n"
     ]
    },
    {
     "name": "stderr",
     "output_type": "stream",
     "text": [
      "100%|██████████████████████████████████████████████████| 2000/2000 [00:31<00:00, 64.49it/s]"
     ]
    },
    {
     "name": "stdout",
     "output_type": "stream",
     "text": [
      "2.7162508964538574\n",
      "2.7162673473358154\n",
      "2.716233253479004\n",
      "2.7162725925445557\n",
      "2.716245174407959\n",
      "SparseEDAA took 31.06s\n"
     ]
    },
    {
     "name": "stderr",
     "output_type": "stream",
     "text": [
      "\n"
     ]
    }
   ],
   "source": [
    "# Instantiate objects\n",
    "model = SparseEDAA(lamb=0.5, mu1=30,mu2=20,mu3=1, TA=10,TB=10,T=2000)\n",
    "Y = img_resh\n",
    "D = EE#np.concatenate((EE, Y), axis=1)\n",
    "noise = AdditiveWhiteGaussianNoise()\n",
    "Y = noise.fit_transform(Y, SNR=40, seed=0)\n",
    "from scipy import linalg\n",
    "V, SS, U = scipy.linalg.svd(Y, full_matrices=False)\n",
    "PC=np.diag(SS)@U\n",
    "Y_DN=V[:,:p]@PC[:p,:]\n",
    "# Convert the data to tensors\n",
    "Y = torch.Tensor(Y)\n",
    "Y_DN = torch.Tensor(Y_DN)\n",
    "D = torch.Tensor(D)\n",
    "# Abundances estimation\n",
    "E0,B0, A0 = model.solve(Y_DN, D, p, seed=1)"
   ]
  },
  {
   "cell_type": "code",
   "execution_count": 26,
   "metadata": {
    "colab": {
     "base_uri": "https://localhost:8080/",
     "height": 354
    },
    "id": "Y6pIP6EevolV",
    "outputId": "a49d7b2b-11b2-4b48-933a-bc3310c2f8ca",
    "tags": []
   },
   "outputs": [
    {
     "data": {
      "text/plain": [
       "[<matplotlib.lines.Line2D at 0x7fcc6c1d6110>,\n",
       " <matplotlib.lines.Line2D at 0x7fcc6c1d6170>,\n",
       " <matplotlib.lines.Line2D at 0x7fcc6c1d61a0>,\n",
       " <matplotlib.lines.Line2D at 0x7fcc6c1d6290>,\n",
       " <matplotlib.lines.Line2D at 0x7fcc6c1d6380>]"
      ]
     },
     "execution_count": 26,
     "metadata": {},
     "output_type": "execute_result"
    },
    {
     "data": {
      "image/png": "[encoded data removed]",
      "text/plain": [
       "<Figure size 640x480 with 1 Axes>"
      ]
     },
     "metadata": {},
     "output_type": "display_data"
    }
   ],
   "source": [
    "plt.plot(E0)"
   ]
  },
  {
   "cell_type": "code",
   "execution_count": 27,
   "metadata": {
    "colab": {
     "base_uri": "https://localhost:8080/",
     "height": 352
    },
    "id": "6X0W8mNSomCu",
    "outputId": "9864e76e-b9b9-425d-a990-c34b09fd40ef"
   },
   "outputs": [
    {
     "data": {
      "text/plain": [
       "[<matplotlib.lines.Line2D at 0x7fcc5c7715d0>,\n",
       " <matplotlib.lines.Line2D at 0x7fcc5c771630>,\n",
       " <matplotlib.lines.Line2D at 0x7fcc5c771660>,\n",
       " <matplotlib.lines.Line2D at 0x7fcc5c771750>,\n",
       " <matplotlib.lines.Line2D at 0x7fcc5c771840>]"
      ]
     },
     "execution_count": 27,
     "metadata": {},
     "output_type": "execute_result"
    },
    {
     "data": {
      "image/png": "[encoded data removed]",
      "text/plain": [
       "<Figure size 640x480 with 1 Axes>"
      ]
     },
     "metadata": {},
     "output_type": "display_data"
    }
   ],
   "source": [
    "plt.plot(B0)"
   ]
  },
  {
   "cell_type": "code",
   "execution_count": 28,
   "metadata": {
    "colab": {
     "base_uri": "https://localhost:8080/"
    },
    "id": "5QRBD-4yyWRe",
    "outputId": "23bae178-e71b-43f3-fa3a-283702f331cc",
    "tags": []
   },
   "outputs": [
    {
     "name": "stdout",
     "output_type": "stream",
     "text": [
      "SRE: 31.468481\n"
     ]
    }
   ],
   "source": [
    "# Select a criterion to perform alignment\n",
    "#criterion = MSE()\n",
    "\n",
    "# Select an aligner to perform alignment\n",
    "A_true = A_true_np.reshape((EE.shape[1],nr1*nc1))#[1:p+1,:]\n",
    "#aligner = MunkresAbundancesAligner2(A=A_true, criterion=criterion)\n",
    "\n",
    "#A1 = aligner.fit_transform(A0)\n",
    "#E1 = aligner.transform_endmembers(E0)\n",
    "\n",
    "#\n",
    "#x = A0.astype(np.float32).reshape((EE.shape[1],nr1*nc1))\n",
    "SRE = 20*np.log10(LA.norm(A_true,'fro')/LA.norm((A_true - B0@A0),'fro'))\n",
    "\n",
    "print ('SRE: %f' % (SRE))\n",
    "\n",
    "\n",
    "\n"
   ]
  },
  {
   "cell_type": "code",
   "execution_count": 22,
   "metadata": {
    "colab": {
     "base_uri": "https://localhost:8080/",
     "height": 152
    },
    "id": "04JQ4XRnSXvk",
    "outputId": "187d8b84-6a24-4aea-b675-3617fd695cbe"
   },
   "outputs": [
    {
     "data": {
      "image/png": "[encoded data removed]",
      "text/plain": [
       "<Figure size 1200x400 with 10 Axes>"
      ]
     },
     "metadata": {},
     "output_type": "display_data"
    }
   ],
   "source": [
    "fig, ax = plt.subplots(nrows=1, ncols=p, figsize=(12, 4))\n",
    "A_reshape = A_true[1:p+1,:].reshape((p, nr1, nc1))\n",
    "for kk in range(p):\n",
    "    curr_ax = ax[kk]\n",
    "    mappable = curr_ax.imshow(A_reshape[kk], vmin=0.0, vmax=1.0)\n",
    "    fig.colorbar(mappable, ax=curr_ax, shrink=0.5)"
   ]
  },
  {
   "cell_type": "code",
   "execution_count": 23,
   "metadata": {
    "colab": {
     "base_uri": "https://localhost:8080/",
     "height": 152
    },
    "id": "49axqFikT5FB",
    "outputId": "a8dae29b-35d5-4545-8972-e415fbf11673"
   },
   "outputs": [
    {
     "data": {
      "image/png": "[encoded data removed]",
      "text/plain": [
       "<Figure size 1200x400 with 10 Axes>"
      ]
     },
     "metadata": {},
     "output_type": "display_data"
    }
   ],
   "source": [
    "fig, ax = plt.subplots(nrows=1, ncols=p, figsize=(12, 4))\n",
    "A2 = (B0@A0)[1:p+1,:].reshape((p, nr1, nc1))\n",
    "for kk in range(p):\n",
    "    curr_ax = ax[kk]\n",
    "    mappable = curr_ax.imshow(A2[kk], vmin=0.0, vmax=1.0)\n",
    "    fig.colorbar(mappable, ax=curr_ax, shrink=0.5)"
   ]
  },
  {
   "cell_type": "code",
   "execution_count": null,
   "metadata": {},
   "outputs": [],
   "source": []
  }
 ],
 "metadata": {
  "accelerator": "GPU",
  "colab": {
   "collapsed_sections": [],
   "include_colab_link": true,
   "provenance": [],
   "toc_visible": true
  },
  "gpuClass": "standard",
  "kernelspec": {
   "display_name": "Python 3 (ipykernel)",
   "language": "python",
   "name": "python3"
  },
  "language_info": {
   "codemirror_mode": {
    "name": "ipython",
    "version": 3
   },
   "file_extension": ".py",
   "mimetype": "text/x-python",
   "name": "python",
   "nbconvert_exporter": "python",
   "pygments_lexer": "ipython3",
   "version": "3.10.12"
  },
  "widgets": {
   "application/vnd.jupyter.widget-state+json": {
    "0f81db6cf4b6431383aa5d27b4664021": {
     "model_module": "@jupyter-widgets/base",
     "model_module_version": "1.2.0",
     "model_name": "LayoutModel",
     "state": {
      "_model_module": "@jupyter-widgets/base",
      "_model_module_version": "1.2.0",
      "_model_name": "LayoutModel",
      "_view_count": null,
      "_view_module": "@jupyter-widgets/base",
      "_view_module_version": "1.2.0",
      "_view_name": "LayoutView",
      "align_content": null,
      "align_items": null,
      "align_self": null,
      "border": null,
      "bottom": null,
      "display": null,
      "flex": null,
      "flex_flow": null,
      "grid_area": null,
      "grid_auto_columns": null,
      "grid_auto_flow": null,
      "grid_auto_rows": null,
      "grid_column": null,
      "grid_gap": null,
      "grid_row": null,
      "grid_template_areas": null,
      "grid_template_columns": null,
      "grid_template_rows": null,
      "height": null,
      "justify_content": null,
      "justify_items": null,
      "left": null,
      "margin": null,
      "max_height": null,
      "max_width": null,
      "min_height": null,
      "min_width": null,
      "object_fit": null,
      "object_position": null,
      "order": null,
      "overflow": null,
      "overflow_x": null,
      "overflow_y": null,
      "padding": null,
      "right": null,
      "top": null,
      "visibility": null,
      "width": null
     }
    },
    "1749f8da16e246bebd5b77eef049fcf9": {
     "model_module": "@jupyter-widgets/controls",
     "model_module_version": "1.5.0",
     "model_name": "HTMLModel",
     "state": {
      "_dom_classes": [],
      "_model_module": "@jupyter-widgets/controls",
      "_model_module_version": "1.5.0",
      "_model_name": "HTMLModel",
      "_view_count": null,
      "_view_module": "@jupyter-widgets/controls",
      "_view_module_version": "1.5.0",
      "_view_name": "HTMLView",
      "description": "",
      "description_tooltip": null,
      "layout": "IPY_MODEL_d13f9c221cc9468cb18cd58297271ca2",
      "placeholder": "​",
      "style": "IPY_MODEL_1d14c12be09f43e0956289f46e0f3c65",
      "value": "100%"
     }
    },
    "1bf6f77fcfbb45189d1f0de55eefd9d0": {
     "model_module": "@jupyter-widgets/base",
     "model_module_version": "1.2.0",
     "model_name": "LayoutModel",
     "state": {
      "_model_module": "@jupyter-widgets/base",
      "_model_module_version": "1.2.0",
      "_model_name": "LayoutModel",
      "_view_count": null,
      "_view_module": "@jupyter-widgets/base",
      "_view_module_version": "1.2.0",
      "_view_name": "LayoutView",
      "align_content": null,
      "align_items": null,
      "align_self": null,
      "border": null,
      "bottom": null,
      "display": null,
      "flex": null,
      "flex_flow": null,
      "grid_area": null,
      "grid_auto_columns": null,
      "grid_auto_flow": null,
      "grid_auto_rows": null,
      "grid_column": null,
      "grid_gap": null,
      "grid_row": null,
      "grid_template_areas": null,
      "grid_template_columns": null,
      "grid_template_rows": null,
      "height": null,
      "justify_content": null,
      "justify_items": null,
      "left": null,
      "margin": null,
      "max_height": null,
      "max_width": null,
      "min_height": null,
      "min_width": null,
      "object_fit": null,
      "object_position": null,
      "order": null,
      "overflow": null,
      "overflow_x": null,
      "overflow_y": null,
      "padding": null,
      "right": null,
      "top": null,
      "visibility": null,
      "width": null
     }
    },
    "1d14c12be09f43e0956289f46e0f3c65": {
     "model_module": "@jupyter-widgets/controls",
     "model_module_version": "1.5.0",
     "model_name": "DescriptionStyleModel",
     "state": {
      "_model_module": "@jupyter-widgets/controls",
      "_model_module_version": "1.5.0",
      "_model_name": "DescriptionStyleModel",
      "_view_count": null,
      "_view_module": "@jupyter-widgets/base",
      "_view_module_version": "1.2.0",
      "_view_name": "StyleView",
      "description_width": ""
     }
    },
    "5b27a4a14ad347468dafb3562aebc462": {
     "model_module": "@jupyter-widgets/base",
     "model_module_version": "1.2.0",
     "model_name": "LayoutModel",
     "state": {
      "_model_module": "@jupyter-widgets/base",
      "_model_module_version": "1.2.0",
      "_model_name": "LayoutModel",
      "_view_count": null,
      "_view_module": "@jupyter-widgets/base",
      "_view_module_version": "1.2.0",
      "_view_name": "LayoutView",
      "align_content": null,
      "align_items": null,
      "align_self": null,
      "border": null,
      "bottom": null,
      "display": null,
      "flex": null,
      "flex_flow": null,
      "grid_area": null,
      "grid_auto_columns": null,
      "grid_auto_flow": null,
      "grid_auto_rows": null,
      "grid_column": null,
      "grid_gap": null,
      "grid_row": null,
      "grid_template_areas": null,
      "grid_template_columns": null,
      "grid_template_rows": null,
      "height": null,
      "justify_content": null,
      "justify_items": null,
      "left": null,
      "margin": null,
      "max_height": null,
      "max_width": null,
      "min_height": null,
      "min_width": null,
      "object_fit": null,
      "object_position": null,
      "order": null,
      "overflow": null,
      "overflow_x": null,
      "overflow_y": null,
      "padding": null,
      "right": null,
      "top": null,
      "visibility": null,
      "width": null
     }
    },
    "6972dfe413e84e758f0acf45fa2b0b48": {
     "model_module": "@jupyter-widgets/controls",
     "model_module_version": "1.5.0",
     "model_name": "HBoxModel",
     "state": {
      "_dom_classes": [],
      "_model_module": "@jupyter-widgets/controls",
      "_model_module_version": "1.5.0",
      "_model_name": "HBoxModel",
      "_view_count": null,
      "_view_module": "@jupyter-widgets/controls",
      "_view_module_version": "1.5.0",
      "_view_name": "HBoxView",
      "box_style": "",
      "children": [
       "IPY_MODEL_1749f8da16e246bebd5b77eef049fcf9",
       "IPY_MODEL_9e8920bc5d3b4c8fbdd277e15a604534",
       "IPY_MODEL_b85f908deff043fe8c1aa96885dd489a"
      ],
      "layout": "IPY_MODEL_0f81db6cf4b6431383aa5d27b4664021"
     }
    },
    "9c9c9ca8f1e9454eb822adc8fc156105": {
     "model_module": "@jupyter-widgets/controls",
     "model_module_version": "1.5.0",
     "model_name": "ProgressStyleModel",
     "state": {
      "_model_module": "@jupyter-widgets/controls",
      "_model_module_version": "1.5.0",
      "_model_name": "ProgressStyleModel",
      "_view_count": null,
      "_view_module": "@jupyter-widgets/base",
      "_view_module_version": "1.2.0",
      "_view_name": "StyleView",
      "bar_color": null,
      "description_width": ""
     }
    },
    "9e8920bc5d3b4c8fbdd277e15a604534": {
     "model_module": "@jupyter-widgets/controls",
     "model_module_version": "1.5.0",
     "model_name": "FloatProgressModel",
     "state": {
      "_dom_classes": [],
      "_model_module": "@jupyter-widgets/controls",
      "_model_module_version": "1.5.0",
      "_model_name": "FloatProgressModel",
      "_view_count": null,
      "_view_module": "@jupyter-widgets/controls",
      "_view_module_version": "1.5.0",
      "_view_name": "ProgressView",
      "bar_style": "success",
      "description": "",
      "description_tooltip": null,
      "layout": "IPY_MODEL_5b27a4a14ad347468dafb3562aebc462",
      "max": 1,
      "min": 0,
      "orientation": "horizontal",
      "style": "IPY_MODEL_9c9c9ca8f1e9454eb822adc8fc156105",
      "value": 1
     }
    },
    "b85f908deff043fe8c1aa96885dd489a": {
     "model_module": "@jupyter-widgets/controls",
     "model_module_version": "1.5.0",
     "model_name": "HTMLModel",
     "state": {
      "_dom_classes": [],
      "_model_module": "@jupyter-widgets/controls",
      "_model_module_version": "1.5.0",
      "_model_name": "HTMLModel",
      "_view_count": null,
      "_view_module": "@jupyter-widgets/controls",
      "_view_module_version": "1.5.0",
      "_view_name": "HTMLView",
      "description": "",
      "description_tooltip": null,
      "layout": "IPY_MODEL_1bf6f77fcfbb45189d1f0de55eefd9d0",
      "placeholder": "​",
      "style": "IPY_MODEL_c97c851ca8b449f9bb25ba566510b01e",
      "value": " 1/1 [00:58&lt;00:00, 58.62s/it]"
     }
    },
    "c97c851ca8b449f9bb25ba566510b01e": {
     "model_module": "@jupyter-widgets/controls",
     "model_module_version": "1.5.0",
     "model_name": "DescriptionStyleModel",
     "state": {
      "_model_module": "@jupyter-widgets/controls",
      "_model_module_version": "1.5.0",
      "_model_name": "DescriptionStyleModel",
      "_view_count": null,
      "_view_module": "@jupyter-widgets/base",
      "_view_module_version": "1.2.0",
      "_view_name": "StyleView",
      "description_width": ""
     }
    },
    "d13f9c221cc9468cb18cd58297271ca2": {
     "model_module": "@jupyter-widgets/base",
     "model_module_version": "1.2.0",
     "model_name": "LayoutModel",
     "state": {
      "_model_module": "@jupyter-widgets/base",
      "_model_module_version": "1.2.0",
      "_model_name": "LayoutModel",
      "_view_count": null,
      "_view_module": "@jupyter-widgets/base",
      "_view_module_version": "1.2.0",
      "_view_name": "LayoutView",
      "align_content": null,
      "align_items": null,
      "align_self": null,
      "border": null,
      "bottom": null,
      "display": null,
      "flex": null,
      "flex_flow": null,
      "grid_area": null,
      "grid_auto_columns": null,
      "grid_auto_flow": null,
      "grid_auto_rows": null,
      "grid_column": null,
      "grid_gap": null,
      "grid_row": null,
      "grid_template_areas": null,
      "grid_template_columns": null,
      "grid_template_rows": null,
      "height": null,
      "justify_content": null,
      "justify_items": null,
      "left": null,
      "margin": null,
      "max_height": null,
      "max_width": null,
      "min_height": null,
      "min_width": null,
      "object_fit": null,
      "object_position": null,
      "order": null,
      "overflow": null,
      "overflow_x": null,
      "overflow_y": null,
      "padding": null,
      "right": null,
      "top": null,
      "visibility": null,
      "width": null
     }
    }
   }
  }
 },
 "nbformat": 4,
 "nbformat_minor": 4
}
